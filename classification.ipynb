{
  "cells": [
    {
      "cell_type": "code",
      "execution_count": 1,
      "id": "a629e4c7",
      "metadata": {
        "colab": {
          "base_uri": "https://localhost:8080/"
        },
        "id": "a629e4c7",
        "outputId": "3d28fb0e-7d77-4bff-ac6d-bfa258464850"
      },
      "outputs": [
        {
          "output_type": "stream",
          "name": "stdout",
          "text": [
            "2.2.1+cu121\n"
          ]
        }
      ],
      "source": [
        "import torch\n",
        "from torch import nn\n",
        "import sklearn\n",
        "from sklearn.model_selection import train_test_split\n",
        "from sklearn import datasets\n",
        "from sklearn.datasets import make_circles\n",
        "import numpy as np\n",
        "import pandas as pd\n",
        "import matplotlib.pyplot as plt\n",
        "print(torch.__version__)"
      ]
    },
    {
      "cell_type": "markdown",
      "id": "14deeb12",
      "metadata": {
        "id": "14deeb12"
      },
      "source": [
        "## Make Classification Data"
      ]
    },
    {
      "cell_type": "code",
      "execution_count": 2,
      "id": "22453348",
      "metadata": {
        "colab": {
          "base_uri": "https://localhost:8080/"
        },
        "id": "22453348",
        "outputId": "e5b63973-87d4-459f-d121-f9fe75fe0f2d"
      },
      "outputs": [
        {
          "output_type": "execute_result",
          "data": {
            "text/plain": [
              "(1000, 1000)"
            ]
          },
          "metadata": {},
          "execution_count": 2
        }
      ],
      "source": [
        "# Make 1000 samples\n",
        "n_samples = 1000\n",
        "\n",
        "# Create circles\n",
        "X, y = make_circles(n_samples,\n",
        "                    noise=0.03,\n",
        "                    random_state=36)\n",
        "len(X), len(y)"
      ]
    },
    {
      "cell_type": "code",
      "execution_count": 3,
      "id": "4bfd89a3",
      "metadata": {
        "colab": {
          "base_uri": "https://localhost:8080/"
        },
        "id": "4bfd89a3",
        "outputId": "395de3bd-2054-4696-9528-8eaba2af2706"
      },
      "outputs": [
        {
          "output_type": "stream",
          "name": "stdout",
          "text": [
            "First 5 samples of X:\n",
            " [[-0.51616097 -0.80448756]\n",
            " [ 0.21437768 -0.7292871 ]\n",
            " [ 0.52268172 -0.61083988]\n",
            " [-0.92241222  0.44613843]\n",
            " [-0.25736324 -0.70654505]]\n",
            "First 5 samples of y:\n",
            " [0 1 1 0 1]\n"
          ]
        }
      ],
      "source": [
        "print(f\"First 5 samples of X:\\n {X[:5]}\")\n",
        "print(f\"First 5 samples of y:\\n {y[:5]}\")"
      ]
    },
    {
      "cell_type": "code",
      "execution_count": 4,
      "id": "f9d7b350",
      "metadata": {
        "colab": {
          "base_uri": "https://localhost:8080/",
          "height": 363
        },
        "id": "f9d7b350",
        "outputId": "f8d2ac21-8ccc-45a5-be38-092f915414a2"
      },
      "outputs": [
        {
          "output_type": "execute_result",
          "data": {
            "text/plain": [
              "        X_1       X_2  label\n",
              "0 -0.516161 -0.804488      0\n",
              "1  0.214378 -0.729287      1\n",
              "2  0.522682 -0.610840      1\n",
              "3 -0.922412  0.446138      0\n",
              "4 -0.257363 -0.706545      1\n",
              "5  0.078599 -0.755956      1\n",
              "6 -0.065401 -0.975706      0\n",
              "7 -0.502730  0.653031      1\n",
              "8 -0.794530 -0.102092      1\n",
              "9 -0.152934 -1.025184      0"
            ],
            "text/html": [
              "\n",
              "  <div id=\"df-17bfe106-0952-4528-b224-4a273b07612c\" class=\"colab-df-container\">\n",
              "    <div>\n",
              "<style scoped>\n",
              "    .dataframe tbody tr th:only-of-type {\n",
              "        vertical-align: middle;\n",
              "    }\n",
              "\n",
              "    .dataframe tbody tr th {\n",
              "        vertical-align: top;\n",
              "    }\n",
              "\n",
              "    .dataframe thead th {\n",
              "        text-align: right;\n",
              "    }\n",
              "</style>\n",
              "<table border=\"1\" class=\"dataframe\">\n",
              "  <thead>\n",
              "    <tr style=\"text-align: right;\">\n",
              "      <th></th>\n",
              "      <th>X_1</th>\n",
              "      <th>X_2</th>\n",
              "      <th>label</th>\n",
              "    </tr>\n",
              "  </thead>\n",
              "  <tbody>\n",
              "    <tr>\n",
              "      <th>0</th>\n",
              "      <td>-0.516161</td>\n",
              "      <td>-0.804488</td>\n",
              "      <td>0</td>\n",
              "    </tr>\n",
              "    <tr>\n",
              "      <th>1</th>\n",
              "      <td>0.214378</td>\n",
              "      <td>-0.729287</td>\n",
              "      <td>1</td>\n",
              "    </tr>\n",
              "    <tr>\n",
              "      <th>2</th>\n",
              "      <td>0.522682</td>\n",
              "      <td>-0.610840</td>\n",
              "      <td>1</td>\n",
              "    </tr>\n",
              "    <tr>\n",
              "      <th>3</th>\n",
              "      <td>-0.922412</td>\n",
              "      <td>0.446138</td>\n",
              "      <td>0</td>\n",
              "    </tr>\n",
              "    <tr>\n",
              "      <th>4</th>\n",
              "      <td>-0.257363</td>\n",
              "      <td>-0.706545</td>\n",
              "      <td>1</td>\n",
              "    </tr>\n",
              "    <tr>\n",
              "      <th>5</th>\n",
              "      <td>0.078599</td>\n",
              "      <td>-0.755956</td>\n",
              "      <td>1</td>\n",
              "    </tr>\n",
              "    <tr>\n",
              "      <th>6</th>\n",
              "      <td>-0.065401</td>\n",
              "      <td>-0.975706</td>\n",
              "      <td>0</td>\n",
              "    </tr>\n",
              "    <tr>\n",
              "      <th>7</th>\n",
              "      <td>-0.502730</td>\n",
              "      <td>0.653031</td>\n",
              "      <td>1</td>\n",
              "    </tr>\n",
              "    <tr>\n",
              "      <th>8</th>\n",
              "      <td>-0.794530</td>\n",
              "      <td>-0.102092</td>\n",
              "      <td>1</td>\n",
              "    </tr>\n",
              "    <tr>\n",
              "      <th>9</th>\n",
              "      <td>-0.152934</td>\n",
              "      <td>-1.025184</td>\n",
              "      <td>0</td>\n",
              "    </tr>\n",
              "  </tbody>\n",
              "</table>\n",
              "</div>\n",
              "    <div class=\"colab-df-buttons\">\n",
              "\n",
              "  <div class=\"colab-df-container\">\n",
              "    <button class=\"colab-df-convert\" onclick=\"convertToInteractive('df-17bfe106-0952-4528-b224-4a273b07612c')\"\n",
              "            title=\"Convert this dataframe to an interactive table.\"\n",
              "            style=\"display:none;\">\n",
              "\n",
              "  <svg xmlns=\"http://www.w3.org/2000/svg\" height=\"24px\" viewBox=\"0 -960 960 960\">\n",
              "    <path d=\"M120-120v-720h720v720H120Zm60-500h600v-160H180v160Zm220 220h160v-160H400v160Zm0 220h160v-160H400v160ZM180-400h160v-160H180v160Zm440 0h160v-160H620v160ZM180-180h160v-160H180v160Zm440 0h160v-160H620v160Z\"/>\n",
              "  </svg>\n",
              "    </button>\n",
              "\n",
              "  <style>\n",
              "    .colab-df-container {\n",
              "      display:flex;\n",
              "      gap: 12px;\n",
              "    }\n",
              "\n",
              "    .colab-df-convert {\n",
              "      background-color: #E8F0FE;\n",
              "      border: none;\n",
              "      border-radius: 50%;\n",
              "      cursor: pointer;\n",
              "      display: none;\n",
              "      fill: #1967D2;\n",
              "      height: 32px;\n",
              "      padding: 0 0 0 0;\n",
              "      width: 32px;\n",
              "    }\n",
              "\n",
              "    .colab-df-convert:hover {\n",
              "      background-color: #E2EBFA;\n",
              "      box-shadow: 0px 1px 2px rgba(60, 64, 67, 0.3), 0px 1px 3px 1px rgba(60, 64, 67, 0.15);\n",
              "      fill: #174EA6;\n",
              "    }\n",
              "\n",
              "    .colab-df-buttons div {\n",
              "      margin-bottom: 4px;\n",
              "    }\n",
              "\n",
              "    [theme=dark] .colab-df-convert {\n",
              "      background-color: #3B4455;\n",
              "      fill: #D2E3FC;\n",
              "    }\n",
              "\n",
              "    [theme=dark] .colab-df-convert:hover {\n",
              "      background-color: #434B5C;\n",
              "      box-shadow: 0px 1px 3px 1px rgba(0, 0, 0, 0.15);\n",
              "      filter: drop-shadow(0px 1px 2px rgba(0, 0, 0, 0.3));\n",
              "      fill: #FFFFFF;\n",
              "    }\n",
              "  </style>\n",
              "\n",
              "    <script>\n",
              "      const buttonEl =\n",
              "        document.querySelector('#df-17bfe106-0952-4528-b224-4a273b07612c button.colab-df-convert');\n",
              "      buttonEl.style.display =\n",
              "        google.colab.kernel.accessAllowed ? 'block' : 'none';\n",
              "\n",
              "      async function convertToInteractive(key) {\n",
              "        const element = document.querySelector('#df-17bfe106-0952-4528-b224-4a273b07612c');\n",
              "        const dataTable =\n",
              "          await google.colab.kernel.invokeFunction('convertToInteractive',\n",
              "                                                    [key], {});\n",
              "        if (!dataTable) return;\n",
              "\n",
              "        const docLinkHtml = 'Like what you see? Visit the ' +\n",
              "          '<a target=\"_blank\" href=https://colab.research.google.com/notebooks/data_table.ipynb>data table notebook</a>'\n",
              "          + ' to learn more about interactive tables.';\n",
              "        element.innerHTML = '';\n",
              "        dataTable['output_type'] = 'display_data';\n",
              "        await google.colab.output.renderOutput(dataTable, element);\n",
              "        const docLink = document.createElement('div');\n",
              "        docLink.innerHTML = docLinkHtml;\n",
              "        element.appendChild(docLink);\n",
              "      }\n",
              "    </script>\n",
              "  </div>\n",
              "\n",
              "\n",
              "<div id=\"df-bbbacbb9-3565-4ed6-af85-099ae1797825\">\n",
              "  <button class=\"colab-df-quickchart\" onclick=\"quickchart('df-bbbacbb9-3565-4ed6-af85-099ae1797825')\"\n",
              "            title=\"Suggest charts\"\n",
              "            style=\"display:none;\">\n",
              "\n",
              "<svg xmlns=\"http://www.w3.org/2000/svg\" height=\"24px\"viewBox=\"0 0 24 24\"\n",
              "     width=\"24px\">\n",
              "    <g>\n",
              "        <path d=\"M19 3H5c-1.1 0-2 .9-2 2v14c0 1.1.9 2 2 2h14c1.1 0 2-.9 2-2V5c0-1.1-.9-2-2-2zM9 17H7v-7h2v7zm4 0h-2V7h2v10zm4 0h-2v-4h2v4z\"/>\n",
              "    </g>\n",
              "</svg>\n",
              "  </button>\n",
              "\n",
              "<style>\n",
              "  .colab-df-quickchart {\n",
              "      --bg-color: #E8F0FE;\n",
              "      --fill-color: #1967D2;\n",
              "      --hover-bg-color: #E2EBFA;\n",
              "      --hover-fill-color: #174EA6;\n",
              "      --disabled-fill-color: #AAA;\n",
              "      --disabled-bg-color: #DDD;\n",
              "  }\n",
              "\n",
              "  [theme=dark] .colab-df-quickchart {\n",
              "      --bg-color: #3B4455;\n",
              "      --fill-color: #D2E3FC;\n",
              "      --hover-bg-color: #434B5C;\n",
              "      --hover-fill-color: #FFFFFF;\n",
              "      --disabled-bg-color: #3B4455;\n",
              "      --disabled-fill-color: #666;\n",
              "  }\n",
              "\n",
              "  .colab-df-quickchart {\n",
              "    background-color: var(--bg-color);\n",
              "    border: none;\n",
              "    border-radius: 50%;\n",
              "    cursor: pointer;\n",
              "    display: none;\n",
              "    fill: var(--fill-color);\n",
              "    height: 32px;\n",
              "    padding: 0;\n",
              "    width: 32px;\n",
              "  }\n",
              "\n",
              "  .colab-df-quickchart:hover {\n",
              "    background-color: var(--hover-bg-color);\n",
              "    box-shadow: 0 1px 2px rgba(60, 64, 67, 0.3), 0 1px 3px 1px rgba(60, 64, 67, 0.15);\n",
              "    fill: var(--button-hover-fill-color);\n",
              "  }\n",
              "\n",
              "  .colab-df-quickchart-complete:disabled,\n",
              "  .colab-df-quickchart-complete:disabled:hover {\n",
              "    background-color: var(--disabled-bg-color);\n",
              "    fill: var(--disabled-fill-color);\n",
              "    box-shadow: none;\n",
              "  }\n",
              "\n",
              "  .colab-df-spinner {\n",
              "    border: 2px solid var(--fill-color);\n",
              "    border-color: transparent;\n",
              "    border-bottom-color: var(--fill-color);\n",
              "    animation:\n",
              "      spin 1s steps(1) infinite;\n",
              "  }\n",
              "\n",
              "  @keyframes spin {\n",
              "    0% {\n",
              "      border-color: transparent;\n",
              "      border-bottom-color: var(--fill-color);\n",
              "      border-left-color: var(--fill-color);\n",
              "    }\n",
              "    20% {\n",
              "      border-color: transparent;\n",
              "      border-left-color: var(--fill-color);\n",
              "      border-top-color: var(--fill-color);\n",
              "    }\n",
              "    30% {\n",
              "      border-color: transparent;\n",
              "      border-left-color: var(--fill-color);\n",
              "      border-top-color: var(--fill-color);\n",
              "      border-right-color: var(--fill-color);\n",
              "    }\n",
              "    40% {\n",
              "      border-color: transparent;\n",
              "      border-right-color: var(--fill-color);\n",
              "      border-top-color: var(--fill-color);\n",
              "    }\n",
              "    60% {\n",
              "      border-color: transparent;\n",
              "      border-right-color: var(--fill-color);\n",
              "    }\n",
              "    80% {\n",
              "      border-color: transparent;\n",
              "      border-right-color: var(--fill-color);\n",
              "      border-bottom-color: var(--fill-color);\n",
              "    }\n",
              "    90% {\n",
              "      border-color: transparent;\n",
              "      border-bottom-color: var(--fill-color);\n",
              "    }\n",
              "  }\n",
              "</style>\n",
              "\n",
              "  <script>\n",
              "    async function quickchart(key) {\n",
              "      const quickchartButtonEl =\n",
              "        document.querySelector('#' + key + ' button');\n",
              "      quickchartButtonEl.disabled = true;  // To prevent multiple clicks.\n",
              "      quickchartButtonEl.classList.add('colab-df-spinner');\n",
              "      try {\n",
              "        const charts = await google.colab.kernel.invokeFunction(\n",
              "            'suggestCharts', [key], {});\n",
              "      } catch (error) {\n",
              "        console.error('Error during call to suggestCharts:', error);\n",
              "      }\n",
              "      quickchartButtonEl.classList.remove('colab-df-spinner');\n",
              "      quickchartButtonEl.classList.add('colab-df-quickchart-complete');\n",
              "    }\n",
              "    (() => {\n",
              "      let quickchartButtonEl =\n",
              "        document.querySelector('#df-bbbacbb9-3565-4ed6-af85-099ae1797825 button');\n",
              "      quickchartButtonEl.style.display =\n",
              "        google.colab.kernel.accessAllowed ? 'block' : 'none';\n",
              "    })();\n",
              "  </script>\n",
              "</div>\n",
              "\n",
              "    </div>\n",
              "  </div>\n"
            ],
            "application/vnd.google.colaboratory.intrinsic+json": {
              "type": "dataframe",
              "variable_name": "circles",
              "summary": "{\n  \"name\": \"circles\",\n  \"rows\": 1000,\n  \"fields\": [\n    {\n      \"column\": \"X_1\",\n      \"properties\": {\n        \"dtype\": \"number\",\n        \"std\": 0.643322446651187,\n        \"min\": -1.040761201912741,\n        \"max\": 1.050401915200421,\n        \"num_unique_values\": 1000,\n        \"samples\": [\n          0.2541477263067383,\n          -0.5025668551717011,\n          0.7696829395139226\n        ],\n        \"semantic_type\": \"\",\n        \"description\": \"\"\n      }\n    },\n    {\n      \"column\": \"X_2\",\n      \"properties\": {\n        \"dtype\": \"number\",\n        \"std\": 0.6403869898915432,\n        \"min\": -1.050332502156748,\n        \"max\": 1.0416314114979366,\n        \"num_unique_values\": 1000,\n        \"samples\": [\n          0.70479848735527,\n          -0.8563585611968547,\n          -0.2746067630696235\n        ],\n        \"semantic_type\": \"\",\n        \"description\": \"\"\n      }\n    },\n    {\n      \"column\": \"label\",\n      \"properties\": {\n        \"dtype\": \"number\",\n        \"std\": 0,\n        \"min\": 0,\n        \"max\": 1,\n        \"num_unique_values\": 2,\n        \"samples\": [\n          1,\n          0\n        ],\n        \"semantic_type\": \"\",\n        \"description\": \"\"\n      }\n    }\n  ]\n}"
            }
          },
          "metadata": {},
          "execution_count": 4
        }
      ],
      "source": [
        "# Make DataFrame of circle data\n",
        "circles = pd.DataFrame({\n",
        "    \"X_1\": X[:, 0],\n",
        "    \"X_2\": X[:, 1],\n",
        "    \"label\": y\n",
        "})\n",
        "circles.head(10)"
      ]
    },
    {
      "cell_type": "code",
      "execution_count": 5,
      "id": "c27aaa38",
      "metadata": {
        "colab": {
          "base_uri": "https://localhost:8080/"
        },
        "id": "c27aaa38",
        "outputId": "608931a9-d9dc-4367-a0d2-b11d414e035c"
      },
      "outputs": [
        {
          "output_type": "execute_result",
          "data": {
            "text/plain": [
              "0    500\n",
              "1    500\n",
              "Name: label, dtype: int64"
            ]
          },
          "metadata": {},
          "execution_count": 5
        }
      ],
      "source": [
        "circles.label.value_counts()"
      ]
    },
    {
      "cell_type": "code",
      "execution_count": 6,
      "id": "f47d1c11",
      "metadata": {
        "colab": {
          "base_uri": "https://localhost:8080/",
          "height": 430
        },
        "id": "f47d1c11",
        "outputId": "dff694c1-49e8-4ac1-f848-aecdce0b5de6"
      },
      "outputs": [
        {
          "output_type": "display_data",
          "data": {
            "text/plain": [
              "<Figure size 640x480 with 1 Axes>"
            ],
            "image/png": "[encoded data removed]"
          },
          "metadata": {}
        }
      ],
      "source": [
        "# Visualize\n",
        "plt.scatter(x=X[:, 0],\n",
        "            y=X[:, 1],\n",
        "            c=y,\n",
        "            cmap=plt.cm.RdYlBu);"
      ]
    },
    {
      "cell_type": "markdown",
      "id": "5fc41f46",
      "metadata": {
        "id": "5fc41f46"
      },
      "source": [
        "### Shapes"
      ]
    },
    {
      "cell_type": "code",
      "execution_count": 7,
      "id": "e76e4755",
      "metadata": {
        "colab": {
          "base_uri": "https://localhost:8080/"
        },
        "id": "e76e4755",
        "outputId": "85f01841-0f2a-402d-a68c-d6286ec0a0cb"
      },
      "outputs": [
        {
          "output_type": "execute_result",
          "data": {
            "text/plain": [
              "((1000, 2), (1000,))"
            ]
          },
          "metadata": {},
          "execution_count": 7
        }
      ],
      "source": [
        "X.shape, y.shape"
      ]
    },
    {
      "cell_type": "code",
      "execution_count": 8,
      "id": "32308dfd",
      "metadata": {
        "colab": {
          "base_uri": "https://localhost:8080/"
        },
        "id": "32308dfd",
        "outputId": "9a18f000-2bc1-46f7-a562-0feb9afc1172"
      },
      "outputs": [
        {
          "output_type": "execute_result",
          "data": {
            "text/plain": [
              "array([[-0.51616097, -0.80448756],\n",
              "       [ 0.21437768, -0.7292871 ],\n",
              "       [ 0.52268172, -0.61083988],\n",
              "       ...,\n",
              "       [ 0.47193053, -0.66317014],\n",
              "       [ 0.12211491,  0.80297944],\n",
              "       [-0.20310922,  0.76032911]])"
            ]
          },
          "metadata": {},
          "execution_count": 8
        }
      ],
      "source": [
        "X"
      ]
    },
    {
      "cell_type": "code",
      "execution_count": 9,
      "id": "2bc3a4fa",
      "metadata": {
        "colab": {
          "base_uri": "https://localhost:8080/"
        },
        "id": "2bc3a4fa",
        "outputId": "04d80377-8cc2-42be-a5be-c68eb157df31"
      },
      "outputs": [
        {
          "output_type": "stream",
          "name": "stdout",
          "text": [
            "Values for one sample of X: [-0.51616097 -0.80448756] and the same for y: 0\n",
            "Shapes for one sample of X: (2,) and the same for y: ()\n"
          ]
        }
      ],
      "source": [
        "# View the first sample of features & labels\n",
        "X_sample = X[0]\n",
        "y_sample = y[0]\n",
        "\n",
        "print(f\"Values for one sample of X: {X_sample} and the same for y: {y_sample}\")\n",
        "print(f\"Shapes for one sample of X: {X_sample.shape} and the same for y: {y_sample.shape}\")"
      ]
    },
    {
      "cell_type": "markdown",
      "id": "265da2d1",
      "metadata": {
        "id": "265da2d1"
      },
      "source": [
        "### Tensors"
      ]
    },
    {
      "cell_type": "code",
      "execution_count": 10,
      "id": "f4db3ab4",
      "metadata": {
        "colab": {
          "base_uri": "https://localhost:8080/"
        },
        "id": "f4db3ab4",
        "outputId": "e2cf2a1d-3db7-4a7e-c83e-749d7f8e0340"
      },
      "outputs": [
        {
          "output_type": "execute_result",
          "data": {
            "text/plain": [
              "(numpy.ndarray, dtype('float64'))"
            ]
          },
          "metadata": {},
          "execution_count": 10
        }
      ],
      "source": [
        "type(X), X.dtype"
      ]
    },
    {
      "cell_type": "code",
      "execution_count": 11,
      "id": "3c4ba9f6",
      "metadata": {
        "colab": {
          "base_uri": "https://localhost:8080/"
        },
        "id": "3c4ba9f6",
        "outputId": "543ce7fe-6ce1-49f7-b4cd-d3432c52f221"
      },
      "outputs": [
        {
          "output_type": "execute_result",
          "data": {
            "text/plain": [
              "(tensor([[-0.5162, -0.8045],\n",
              "         [ 0.2144, -0.7293],\n",
              "         [ 0.5227, -0.6108],\n",
              "         [-0.9224,  0.4461],\n",
              "         [-0.2574, -0.7065]]),\n",
              " tensor([0., 1., 1., 0., 1.]))"
            ]
          },
          "metadata": {},
          "execution_count": 11
        }
      ],
      "source": [
        "# Turn data into tensors\n",
        "X = torch.from_numpy(X).type(torch.float)\n",
        "y = torch.from_numpy(y).type(torch.float)\n",
        "\n",
        "X[:5], y[:5]"
      ]
    },
    {
      "cell_type": "code",
      "source": [
        "type(X), X.dtype, y.dtype"
      ],
      "metadata": {
        "colab": {
          "base_uri": "https://localhost:8080/"
        },
        "id": "HTGR2N9uv-_e",
        "outputId": "93b69136-6b75-406c-da92-a794730fb601"
      },
      "id": "HTGR2N9uv-_e",
      "execution_count": 12,
      "outputs": [
        {
          "output_type": "execute_result",
          "data": {
            "text/plain": [
              "(torch.Tensor, torch.float32, torch.float32)"
            ]
          },
          "metadata": {},
          "execution_count": 12
        }
      ]
    },
    {
      "cell_type": "markdown",
      "source": [
        "### Train & Test Splits"
      ],
      "metadata": {
        "id": "ZYTGH9g3wOWl"
      },
      "id": "ZYTGH9g3wOWl"
    },
    {
      "cell_type": "code",
      "source": [
        "# Split data into train & test sets\n",
        "X_train, X_test, y_train, y_test = train_test_split(X,\n",
        "                                                    y,\n",
        "                                                    test_size=0.2,\n",
        "                                                    random_state=36)"
      ],
      "metadata": {
        "id": "_AIQaK5SwIk2"
      },
      "id": "_AIQaK5SwIk2",
      "execution_count": 13,
      "outputs": []
    },
    {
      "cell_type": "code",
      "source": [
        "len(X_train), len(X_test), len(y_train), len(y_test)"
      ],
      "metadata": {
        "colab": {
          "base_uri": "https://localhost:8080/"
        },
        "id": "uZcCAaCYwsFL",
        "outputId": "eb3d76a7-d63e-4b40-9a96-0c35019a96e3"
      },
      "id": "uZcCAaCYwsFL",
      "execution_count": 14,
      "outputs": [
        {
          "output_type": "execute_result",
          "data": {
            "text/plain": [
              "(800, 200, 800, 200)"
            ]
          },
          "metadata": {},
          "execution_count": 14
        }
      ]
    },
    {
      "cell_type": "code",
      "source": [
        "n_samples"
      ],
      "metadata": {
        "colab": {
          "base_uri": "https://localhost:8080/"
        },
        "id": "6i08tnlgxBQ8",
        "outputId": "4761f82a-98c5-4616-c14c-8442bab6bc54"
      },
      "id": "6i08tnlgxBQ8",
      "execution_count": 15,
      "outputs": [
        {
          "output_type": "execute_result",
          "data": {
            "text/plain": [
              "1000"
            ]
          },
          "metadata": {},
          "execution_count": 15
        }
      ]
    },
    {
      "cell_type": "markdown",
      "source": [
        "## Build the Model"
      ],
      "metadata": {
        "id": "TjlBganPhXSL"
      },
      "id": "TjlBganPhXSL"
    },
    {
      "cell_type": "code",
      "source": [
        "# Make device agnostic code\n",
        "device = \"cuda\" if torch.cuda.is_available() else \"cpu\"\n",
        "device"
      ],
      "metadata": {
        "colab": {
          "base_uri": "https://localhost:8080/",
          "height": 35
        },
        "id": "WBDBQSoghWQU",
        "outputId": "0605a656-a9a7-4eda-c065-c4f5fa72f91d"
      },
      "id": "WBDBQSoghWQU",
      "execution_count": 16,
      "outputs": [
        {
          "output_type": "execute_result",
          "data": {
            "text/plain": [
              "'cpu'"
            ],
            "application/vnd.google.colaboratory.intrinsic+json": {
              "type": "string"
            }
          },
          "metadata": {},
          "execution_count": 16
        }
      ]
    },
    {
      "cell_type": "code",
      "source": [
        "X_train"
      ],
      "metadata": {
        "colab": {
          "base_uri": "https://localhost:8080/"
        },
        "id": "QqYg58aYhoAk",
        "outputId": "8e5c9d92-8693-4859-bf1f-828c02144b80"
      },
      "id": "QqYg58aYhoAk",
      "execution_count": 17,
      "outputs": [
        {
          "output_type": "execute_result",
          "data": {
            "text/plain": [
              "tensor([[ 0.2652, -0.9949],\n",
              "        [ 0.7793, -0.1630],\n",
              "        [-0.6993, -0.7144],\n",
              "        ...,\n",
              "        [-1.0087,  0.2179],\n",
              "        [ 0.7199,  0.7370],\n",
              "        [ 0.9776,  0.1132]])"
            ]
          },
          "metadata": {},
          "execution_count": 17
        }
      ]
    },
    {
      "cell_type": "code",
      "source": [
        "X_train.shape"
      ],
      "metadata": {
        "colab": {
          "base_uri": "https://localhost:8080/"
        },
        "id": "hHTqkIsLhtrS",
        "outputId": "eace5828-4c26-4d90-e169-13690f1a2591"
      },
      "id": "hHTqkIsLhtrS",
      "execution_count": 18,
      "outputs": [
        {
          "output_type": "execute_result",
          "data": {
            "text/plain": [
              "torch.Size([800, 2])"
            ]
          },
          "metadata": {},
          "execution_count": 18
        }
      ]
    },
    {
      "cell_type": "code",
      "source": [
        "y_train[:5]"
      ],
      "metadata": {
        "colab": {
          "base_uri": "https://localhost:8080/"
        },
        "id": "YkeiJzlahw0y",
        "outputId": "fe4eec11-a017-4047-b521-66bc32889056"
      },
      "id": "YkeiJzlahw0y",
      "execution_count": 19,
      "outputs": [
        {
          "output_type": "execute_result",
          "data": {
            "text/plain": [
              "tensor([0., 1., 0., 1., 1.])"
            ]
          },
          "metadata": {},
          "execution_count": 19
        }
      ]
    },
    {
      "cell_type": "code",
      "source": [
        "# [1] Construct a model that subclasses `nn.module`\n",
        "class CircleModelV0(nn.Module):\n",
        "  def __init__(self):\n",
        "    super().__init__()\n",
        "    # [2] Create 2 `nn.Linear` layers capable of handling the shapes of our data\n",
        "    self.layer_1 = nn.Linear(in_features=2, out_features=5)\n",
        "    self.layer_2 = nn.Linear(in_features=5, out_features=1)\n",
        "\n",
        "  # [3] Define a `forward()` method that outlines the forward pass\n",
        "  def forward(self, x):\n",
        "    return self.layer_2(self.layer_1(x))\n",
        "\n",
        "# [4] Instantiate an instance of the model class and send it to the target device\n",
        "model_0 = CircleModelV0().to(device)\n",
        "model_0"
      ],
      "metadata": {
        "colab": {
          "base_uri": "https://localhost:8080/"
        },
        "id": "zvZ6FMkehzfs",
        "outputId": "0e7bbba7-aa41-41ff-ad42-77f29f5f7bd2"
      },
      "id": "zvZ6FMkehzfs",
      "execution_count": 20,
      "outputs": [
        {
          "output_type": "execute_result",
          "data": {
            "text/plain": [
              "CircleModelV0(\n",
              "  (layer_1): Linear(in_features=2, out_features=5, bias=True)\n",
              "  (layer_2): Linear(in_features=5, out_features=1, bias=True)\n",
              ")"
            ]
          },
          "metadata": {},
          "execution_count": 20
        }
      ]
    },
    {
      "cell_type": "code",
      "source": [
        "device"
      ],
      "metadata": {
        "colab": {
          "base_uri": "https://localhost:8080/",
          "height": 35
        },
        "id": "552QcHCHi2rw",
        "outputId": "dcbc0dc8-6843-40db-f703-8beb531a8ab6"
      },
      "id": "552QcHCHi2rw",
      "execution_count": 21,
      "outputs": [
        {
          "output_type": "execute_result",
          "data": {
            "text/plain": [
              "'cpu'"
            ],
            "application/vnd.google.colaboratory.intrinsic+json": {
              "type": "string"
            }
          },
          "metadata": {},
          "execution_count": 21
        }
      ]
    },
    {
      "cell_type": "code",
      "source": [
        "next(model_0.parameters()).device"
      ],
      "metadata": {
        "colab": {
          "base_uri": "https://localhost:8080/"
        },
        "id": "iujcm2yMi4kt",
        "outputId": "68752a4a-d5af-4fb1-dfd7-e8c0721e238c"
      },
      "id": "iujcm2yMi4kt",
      "execution_count": 22,
      "outputs": [
        {
          "output_type": "execute_result",
          "data": {
            "text/plain": [
              "device(type='cpu')"
            ]
          },
          "metadata": {},
          "execution_count": 22
        }
      ]
    },
    {
      "cell_type": "code",
      "source": [
        "# Replicate the model using `nn.Sequential()`\n",
        "model_0 = nn.Sequential(\n",
        "    nn.Linear(in_features=2, out_features=5),\n",
        "    nn.Linear(in_features=5, out_features=1)\n",
        ").to(device)\n",
        "\n",
        "model_0"
      ],
      "metadata": {
        "colab": {
          "base_uri": "https://localhost:8080/"
        },
        "id": "6R6HdQxci88s",
        "outputId": "f34dc852-2e31-4c9e-ffc1-94f161ab3bb9"
      },
      "id": "6R6HdQxci88s",
      "execution_count": 23,
      "outputs": [
        {
          "output_type": "execute_result",
          "data": {
            "text/plain": [
              "Sequential(\n",
              "  (0): Linear(in_features=2, out_features=5, bias=True)\n",
              "  (1): Linear(in_features=5, out_features=1, bias=True)\n",
              ")"
            ]
          },
          "metadata": {},
          "execution_count": 23
        }
      ]
    },
    {
      "cell_type": "code",
      "source": [
        "model_0.state_dict()"
      ],
      "metadata": {
        "colab": {
          "base_uri": "https://localhost:8080/"
        },
        "id": "v2CioRF5jYAs",
        "outputId": "3a9594fd-1c6d-4d8b-a4f2-9bf5063d99a0"
      },
      "id": "v2CioRF5jYAs",
      "execution_count": 24,
      "outputs": [
        {
          "output_type": "execute_result",
          "data": {
            "text/plain": [
              "OrderedDict([('0.weight',\n",
              "              tensor([[ 0.1941, -0.5561],\n",
              "                      [ 0.3912, -0.0075],\n",
              "                      [ 0.4059, -0.5262],\n",
              "                      [ 0.4890, -0.3234],\n",
              "                      [ 0.3221,  0.2091]])),\n",
              "             ('0.bias', tensor([0.6246, 0.4656, 0.0427, 0.1970, 0.0805])),\n",
              "             ('1.weight',\n",
              "              tensor([[ 0.3999, -0.3503,  0.0760,  0.1399,  0.3803]])),\n",
              "             ('1.bias', tensor([0.1770]))])"
            ]
          },
          "metadata": {},
          "execution_count": 24
        }
      ]
    },
    {
      "cell_type": "code",
      "source": [
        "# Make predictions\n",
        "with torch.inference_mode():\n",
        "  untrained_preds = model_0(X_test.to(device))\n",
        "\n",
        "print(f\"Length of predictions: {len(untrained_preds)}, Shape: {untrained_preds.shape}\")\n",
        "print(f\"Length of test samples: {len(X_test)}, Shape: {X_test.shape}\")\n",
        "print(f\"\\nFirst 10 predictions:\\n{torch.round(untrained_preds[:10])}\")\n",
        "print(f\"\\nFirst 10 labels:\\n{y_test[:10]}\")"
      ],
      "metadata": {
        "colab": {
          "base_uri": "https://localhost:8080/"
        },
        "id": "kZD0RVACjagC",
        "outputId": "c5c46901-414e-4c41-8b49-57810aff25b9"
      },
      "id": "kZD0RVACjagC",
      "execution_count": 25,
      "outputs": [
        {
          "output_type": "stream",
          "name": "stdout",
          "text": [
            "Length of predictions: 200, Shape: torch.Size([200, 1])\n",
            "Length of test samples: 200, Shape: torch.Size([200, 2])\n",
            "\n",
            "First 10 predictions:\n",
            "tensor([[0.],\n",
            "        [1.],\n",
            "        [0.],\n",
            "        [1.],\n",
            "        [0.],\n",
            "        [0.],\n",
            "        [0.],\n",
            "        [0.],\n",
            "        [0.],\n",
            "        [0.]])\n",
            "\n",
            "First 10 labels:\n",
            "tensor([1., 0., 1., 0., 0., 1., 1., 0., 1., 1.])\n"
          ]
        }
      ]
    },
    {
      "cell_type": "code",
      "source": [
        "X_test[:10], y_test[:10]"
      ],
      "metadata": {
        "colab": {
          "base_uri": "https://localhost:8080/"
        },
        "id": "b5TM0aC9kdP2",
        "outputId": "7a13da37-08a4-4644-9312-f43450336539"
      },
      "id": "b5TM0aC9kdP2",
      "execution_count": 26,
      "outputs": [
        {
          "output_type": "execute_result",
          "data": {
            "text/plain": [
              "(tensor([[-0.7519, -0.2348],\n",
              "         [ 0.0672, -1.0155],\n",
              "         [ 0.8382, -0.0326],\n",
              "         [ 0.9453, -0.3723],\n",
              "         [ 0.0867,  1.0243],\n",
              "         [-0.7047, -0.4041],\n",
              "         [ 0.8015,  0.1478],\n",
              "         [-0.9936,  0.2249],\n",
              "         [ 0.1271,  0.7600],\n",
              "         [-0.6808, -0.3660]]),\n",
              " tensor([1., 0., 1., 0., 0., 1., 1., 0., 1., 1.]))"
            ]
          },
          "metadata": {},
          "execution_count": 26
        }
      ]
    },
    {
      "cell_type": "markdown",
      "source": [
        "### Setup Loss Function & Optimizer"
      ],
      "metadata": {
        "id": "F32UxMpslLdh"
      },
      "id": "F32UxMpslLdh"
    },
    {
      "cell_type": "code",
      "source": [
        "# Setup the loss function\n",
        "# loss_fn = nn.BCELoss()\n",
        "loss_fn = nn.BCEWithLogitsLoss()\n",
        "\n",
        "# Setup the optimizer\n",
        "optimizer = torch.optim.SGD(params=model_0.parameters(),\n",
        "                            lr=0.1)"
      ],
      "metadata": {
        "id": "PoaZ8OanklnD"
      },
      "id": "PoaZ8OanklnD",
      "execution_count": 27,
      "outputs": []
    },
    {
      "cell_type": "code",
      "source": [
        "# Calculate accuracy\n",
        "def accuracy_fn(y_true, y_pred):\n",
        "  correct = torch.eq(y_true, y_pred).sum().item()\n",
        "  acc = (correct / len(y_pred)) * 100\n",
        "  return acc"
      ],
      "metadata": {
        "id": "MO2zbVq3ly82"
      },
      "id": "MO2zbVq3ly82",
      "execution_count": 28,
      "outputs": []
    },
    {
      "cell_type": "markdown",
      "source": [
        "## Training\n",
        "### Raw Logits, Prediction Probabilities & Prediction Labels"
      ],
      "metadata": {
        "id": "3cYYlXCLmEbS"
      },
      "id": "3cYYlXCLmEbS"
    },
    {
      "cell_type": "code",
      "source": [
        "# View the first 5 outputs of the forward pass on the test data\n",
        "model_0.eval()\n",
        "with torch.inference_mode():\n",
        "  y_logits = model_0(X_test.to(device))[:5]\n",
        "y_logits"
      ],
      "metadata": {
        "colab": {
          "base_uri": "https://localhost:8080/"
        },
        "id": "gbKh2sDYmCep",
        "outputId": "da14fd89-4ad5-437e-80af-0bc8d66d3755"
      },
      "id": "gbKh2sDYmCep",
      "execution_count": 29,
      "outputs": [
        {
          "output_type": "execute_result",
          "data": {
            "text/plain": [
              "tensor([[0.2561],\n",
              "        [0.5651],\n",
              "        [0.4686],\n",
              "        [0.5627],\n",
              "        [0.1083]])"
            ]
          },
          "metadata": {},
          "execution_count": 29
        }
      ]
    },
    {
      "cell_type": "code",
      "source": [
        "y_test[:5]"
      ],
      "metadata": {
        "colab": {
          "base_uri": "https://localhost:8080/"
        },
        "id": "SWGl0OBgmx8x",
        "outputId": "7cede106-4be7-4575-d73d-5d4225df9d7a"
      },
      "id": "SWGl0OBgmx8x",
      "execution_count": 30,
      "outputs": [
        {
          "output_type": "execute_result",
          "data": {
            "text/plain": [
              "tensor([1., 0., 1., 0., 0.])"
            ]
          },
          "metadata": {},
          "execution_count": 30
        }
      ]
    },
    {
      "cell_type": "code",
      "source": [
        "# Use the sigmoid activation function on our model logits to turn them into prediction probabilities\n",
        "y_pred_probs = torch.sigmoid(y_logits)\n",
        "y_pred_probs"
      ],
      "metadata": {
        "colab": {
          "base_uri": "https://localhost:8080/"
        },
        "id": "OTG48xK7m1CH",
        "outputId": "759f4faa-ddfd-4910-9b9f-e22e0aaeb877"
      },
      "id": "OTG48xK7m1CH",
      "execution_count": 31,
      "outputs": [
        {
          "output_type": "execute_result",
          "data": {
            "text/plain": [
              "tensor([[0.5637],\n",
              "        [0.6376],\n",
              "        [0.6151],\n",
              "        [0.6371],\n",
              "        [0.5270]])"
            ]
          },
          "metadata": {},
          "execution_count": 31
        }
      ]
    },
    {
      "cell_type": "code",
      "source": [
        "# Find the predicted labels\n",
        "y_preds = torch.round(y_pred_probs)\n",
        "\n",
        "# In full (logits -> pred probs -> pred labels)\n",
        "y_pred_labels = torch.round(torch.sigmoid(model_0(X_test.to(device))[:5]))\n",
        "\n",
        "# Check for equality\n",
        "print(torch.eq(y_preds.squeeze(), y_pred_labels.squeeze()))\n",
        "\n",
        "# Get rid of extra dimension\n",
        "y_preds.squeeze()"
      ],
      "metadata": {
        "colab": {
          "base_uri": "https://localhost:8080/"
        },
        "id": "1_w2BwL1nDuu",
        "outputId": "71640448-fc3e-43c0-d63b-50c18481eba5"
      },
      "id": "1_w2BwL1nDuu",
      "execution_count": 32,
      "outputs": [
        {
          "output_type": "stream",
          "name": "stdout",
          "text": [
            "tensor([True, True, True, True, True])\n"
          ]
        },
        {
          "output_type": "execute_result",
          "data": {
            "text/plain": [
              "tensor([1., 1., 1., 1., 1.])"
            ]
          },
          "metadata": {},
          "execution_count": 32
        }
      ]
    },
    {
      "cell_type": "markdown",
      "source": [
        "### Training & Testing Loop"
      ],
      "metadata": {
        "id": "nRIwlioYopLF"
      },
      "id": "nRIwlioYopLF"
    },
    {
      "cell_type": "code",
      "source": [
        "torch.manual_seed(36)\n",
        "torch.cuda.manual_seed(36)\n",
        "\n",
        "# Set the number of epochs\n",
        "epochs = 100\n",
        "\n",
        "# Put data to target device\n",
        "X_train, y_train = X_train.to(device), y_train.to(device)\n",
        "X_test, y_test = X_test.to(device), y_test.to(device)\n",
        "\n",
        "# Build training & evaluation loop\n",
        "for epoch in range(epochs):\n",
        "  # Training\n",
        "  model_0.train()\n",
        "\n",
        "  # [1] Forward pass\n",
        "  y_logits = model_0(X_train).squeeze()\n",
        "  y_pred = torch.round(torch.sigmoid(y_logits))\n",
        "\n",
        "  # [2] Calculate loss/acc\n",
        "  # `nn.BCELoss` expects prediction probabilities as input\n",
        "  # loss = loss_fn(torch.sigmoid(y_logits), y_train)\n",
        "  # `nn.BCEWithLogitsLoss` expects raw logits as input\n",
        "  loss = loss_fn(y_logits, y_train)\n",
        "  acc = accuracy_fn(y_true=y_train, y_pred=y_pred)\n",
        "\n",
        "  # [3] Optimizer zero grad\n",
        "  optimizer.zero_grad()\n",
        "\n",
        "  # [4] Loss backward (backpropagation)\n",
        "  loss.backward()\n",
        "\n",
        "  # [5] Optimizer step (gradient descent)\n",
        "  optimizer.step()\n",
        "\n",
        "  # Testing\n",
        "  model_0.eval()\n",
        "  with torch.inference_mode():\n",
        "    # [1] Forward pass\n",
        "    test_logits = model_0(X_test).squeeze()\n",
        "    test_pred = torch.round(torch.sigmoid(test_logits))\n",
        "\n",
        "    # [2] Calculate test loss/acc\n",
        "    test_loss = loss_fn(test_logits, y_test)\n",
        "    test_acc = accuracy_fn(y_true=y_test, y_pred=test_pred)\n",
        "\n",
        "  if epoch % 10 == 0:\n",
        "    print(f\"Epoch: {epoch} | Loss: {loss:.5f}, Acc: {acc:.2f}% | Test loss: {test_loss:.5f}, Test acc: {test_acc}%\")"
      ],
      "metadata": {
        "colab": {
          "base_uri": "https://localhost:8080/"
        },
        "id": "ZNNOb5zKn5lZ",
        "outputId": "7d2e2047-4e57-4566-d90c-ffc4fcb4a8c8"
      },
      "id": "ZNNOb5zKn5lZ",
      "execution_count": 33,
      "outputs": [
        {
          "output_type": "stream",
          "name": "stdout",
          "text": [
            "Epoch: 0 | Loss: 0.70609, Acc: 49.88% | Test loss: 0.72462, Test acc: 50.5%\n",
            "Epoch: 10 | Loss: 0.69665, Acc: 59.38% | Test loss: 0.71290, Test acc: 56.00000000000001%\n",
            "Epoch: 20 | Loss: 0.69350, Acc: 54.37% | Test loss: 0.70828, Test acc: 44.5%\n",
            "Epoch: 30 | Loss: 0.69244, Acc: 53.75% | Test loss: 0.70634, Test acc: 42.5%\n",
            "Epoch: 40 | Loss: 0.69207, Acc: 53.12% | Test loss: 0.70550, Test acc: 41.5%\n",
            "Epoch: 50 | Loss: 0.69194, Acc: 52.75% | Test loss: 0.70512, Test acc: 41.0%\n",
            "Epoch: 60 | Loss: 0.69189, Acc: 52.75% | Test loss: 0.70496, Test acc: 40.0%\n",
            "Epoch: 70 | Loss: 0.69187, Acc: 52.50% | Test loss: 0.70491, Test acc: 39.5%\n",
            "Epoch: 80 | Loss: 0.69185, Acc: 52.62% | Test loss: 0.70491, Test acc: 39.0%\n",
            "Epoch: 90 | Loss: 0.69184, Acc: 52.62% | Test loss: 0.70493, Test acc: 39.0%\n"
          ]
        }
      ]
    },
    {
      "cell_type": "markdown",
      "source": [
        "## Make Predictions & Evaluate the Model"
      ],
      "metadata": {
        "id": "B-LnJ9z3yXaM"
      },
      "id": "B-LnJ9z3yXaM"
    },
    {
      "cell_type": "code",
      "source": [
        "# Plot decision boundaries of model predicting on X in comparison to y\n",
        "def plot_decision_boundary(model: torch.nn.Module, X: torch.Tensor, y: torch.Tensor):\n",
        "  # Put everything to CPU for working better with NumPy & Matplotlib\n",
        "  model.to(\"cpu\")\n",
        "  X, y = X.to(\"cpu\"), y.to(\"cpu\")\n",
        "\n",
        "  # Setup prediction boundaries & grid\n",
        "  x_min, x_max = X[:, 0].min() - 0.1, X[:, 0].max() + 0.1\n",
        "  y_min, y_max = X[:, 1].min() - 0.1, X[:, 1].max() + 0.1\n",
        "  xx, yy = np.meshgrid(np.linspace(x_min, x_max, 101), np.linspace(y_min, y_max, 101))\n",
        "\n",
        "  # Make features\n",
        "  X_to_pred_on = torch.from_numpy(np.column_stack((xx.ravel(), yy.ravel()))).float()\n",
        "\n",
        "  # Make predictions\n",
        "  model.eval()\n",
        "  with torch.inference_mode():\n",
        "    y_logits = model(X_to_pred_on)\n",
        "\n",
        "  # Test for multi-class or binary and adjust logits to prediction labels\n",
        "  if len(torch.unique(y)) > 2:\n",
        "    y_pred = torch.softmax(y_logits, dim=1).argmax(dim=1)  # mutli-class\n",
        "  else:\n",
        "    y_pred = torch.round(torch.sigmoid(y_logits))  # binary\n",
        "\n",
        "  # Reshape preds and plot\n",
        "  y_pred = y_pred.reshape(xx.shape).detach().numpy()\n",
        "  plt.contourf(xx, yy, y_pred, cmap=plt.cm.RdYlBu, alpha=0.7)\n",
        "  plt.scatter(X[:, 0], X[:, 1], c=y, s=40, cmap=plt.cm.RdYlBu)\n",
        "  plt.xlim(xx.min(), xx.max())\n",
        "  plt.ylim(yy.min(), yy.max())\n",
        "\n",
        "# Plot decision boundary of the model\n",
        "plt.figure(figsize=(12, 6))\n",
        "plt.subplot(1, 2, 1)\n",
        "plt.title(\"Train\")\n",
        "plot_decision_boundary(model_0, X_train, y_train)\n",
        "plt.subplot(1, 2, 2)\n",
        "plt.title(\"Test\")\n",
        "plot_decision_boundary(model_0, X_test, y_test)"
      ],
      "metadata": {
        "colab": {
          "base_uri": "https://localhost:8080/",
          "height": 545
        },
        "id": "oQZ2HeM-yeEv",
        "outputId": "8f45fbcb-ea89-4f2b-fba3-bb301b32329d"
      },
      "id": "oQZ2HeM-yeEv",
      "execution_count": 34,
      "outputs": [
        {
          "output_type": "display_data",
          "data": {
            "text/plain": [
              "<Figure size 1200x600 with 2 Axes>"
            ],
            "image/png": "[encoded data removed]"
          },
          "metadata": {}
        }
      ]
    },
    {
      "cell_type": "code",
      "source": [],
      "metadata": {
        "id": "TtCY_LBx0T0o"
      },
      "id": "TtCY_LBx0T0o",
      "execution_count": 34,
      "outputs": []
    }
  ],
  "metadata": {
    "kernelspec": {
      "display_name": "Python 3 (ipykernel)",
      "language": "python",
      "name": "python3"
    },
    "language_info": {
      "codemirror_mode": {
        "name": "ipython",
        "version": 3
      },
      "file_extension": ".py",
      "mimetype": "text/x-python",
      "name": "python",
      "nbconvert_exporter": "python",
      "pygments_lexer": "ipython3",
      "version": "3.8.8"
    },
    "colab": {
      "provenance": []
    }
  },
  "nbformat": 4,
  "nbformat_minor": 5
}